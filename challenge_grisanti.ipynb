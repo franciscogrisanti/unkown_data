{
  "nbformat": 4,
  "nbformat_minor": 0,
  "metadata": {
    "colab": {
      "name": "challenge_grisanti.ipynb",
      "version": "0.3.2",
      "provenance": [],
      "collapsed_sections": []
    },
    "kernelspec": {
      "name": "python3",
      "display_name": "Python 3"
    }
  },
  "cells": [
    {
      "cell_type": "code",
      "metadata": {
        "id": "G9-LMPb36Dj-",
        "colab_type": "code",
        "colab": {}
      },
      "source": [
        "\"\"\"\n",
        "   ___                  _                \n",
        "  / _/______ ____  ____(_)__ _______     \n",
        " / _/ __/ _ `/ _ \\/ __/ (_-</ __/ _ \\    \n",
        "/_//_/  \\_,_/_//_/\\__/_/___/\\__/\\___/    \n",
        "  ___ _____(_)__ ___ ____  / /_(_)       \n",
        " / _ `/ __/ (_-</ _ `/ _ \\/ __/ /        \n",
        " \\_, /_/ /_/___/\\_,_/_//_/\\__/_/         \n",
        "/___/\n",
        "\n",
        "\n",
        "franciscogrisanti.com\n",
        "\n",
        "\"\"\""
      ],
      "execution_count": 0,
      "outputs": []
    },
    {
      "cell_type": "code",
      "metadata": {
        "id": "KiVNQD6V6Tt2",
        "colab_type": "code",
        "colab": {
          "base_uri": "https://localhost:8080/",
          "height": 34
        },
        "outputId": "7fdb18a1-a315-4e2c-a30b-f080fe4750db"
      },
      "source": [
        "from google.colab import drive\n",
        "drive.mount('/content/drive')"
      ],
      "execution_count": 90,
      "outputs": [
        {
          "output_type": "stream",
          "text": [
            "Drive already mounted at /content/drive; to attempt to forcibly remount, call drive.mount(\"/content/drive\", force_remount=True).\n"
          ],
          "name": "stdout"
        }
      ]
    },
    {
      "cell_type": "markdown",
      "metadata": {
        "id": "HMylKwFKRR5R",
        "colab_type": "text"
      },
      "source": [
        "# ###PART 1 Clean & Fill"
      ]
    },
    {
      "cell_type": "code",
      "metadata": {
        "id": "lalwt61k6m5a",
        "colab_type": "code",
        "colab": {}
      },
      "source": [
        "\n",
        "\n",
        "###Loading libraries\n",
        "\n",
        "import pandas as pd\n",
        "import numpy as np\n",
        "from sklearn.impute import SimpleImputer\n",
        "\n",
        "def clean_fill(data):\n",
        " \n",
        "    ###Drop NaN of categorical values\n",
        "    \n",
        "    data = data.dropna(subset=['x34','x35','x68','x93'])\n",
        "    \n",
        "    ###Remove \"$\" from column x41\n",
        "    \n",
        "    data['x41'] = data['x41'].astype(str)\n",
        "    data['x41'] = data['x41'].apply(lambda x: x.replace('$',' '))\n",
        "    data['x41'] = data['x41'].astype(float)\n",
        "           \n",
        "    ###Remove \"%\" from column x45\n",
        "    \n",
        "    data['x45'] = data['x45'].astype(str)\n",
        "    data['x45'] = data['x45'].apply(lambda x: x.replace('%',' '))\n",
        "    data['x45'] = data['x45'].astype(float)\n",
        "    \n",
        "    ###Clean car brand column x34\n",
        "    \n",
        "    data['x34'] = data['x34'].astype(str)\n",
        "    data['x34'] = data['x34'].apply(lambda x: x.replace('mercades','mercedes'))\n",
        "    data['x34'] = data['x34'].apply(lambda x: x.replace('chrystler','chrysler'))\n",
        "    data['x34'] = data['x34'].apply(lambda x: x.replace('volkswagon','volkswagen'))\n",
        "    \n",
        "    ###Clean week days column x35\n",
        "    \n",
        "    data['x35'] = data['x35'].astype(str)\n",
        "    data['x35'] = data['x35'].apply(lambda x: x.replace('day',''))\n",
        "    data['x35'] = data['x35'].apply(lambda x: x.replace('nes',''))\n",
        "    \n",
        "    ###Clean months column x68\n",
        "    \n",
        "    data['x68'] = data['x68'].astype(str)   \n",
        "    data['x68'] = data['x68'].apply(lambda x: x.replace('January','january')) \n",
        "    data['x68'] = data['x68'].apply(lambda x: x.replace('Feb','february')) \n",
        "    data['x68'] = data['x68'].apply(lambda x: x.replace('Mar','march'))\n",
        "    data['x68'] = data['x68'].apply(lambda x: x.replace('Apr','april'))\n",
        "    data['x68'] = data['x68'].apply(lambda x: x.replace('May','may'))\n",
        "    data['x68'] = data['x68'].apply(lambda x: x.replace('Jun','june')) \n",
        "    data['x68'] = data['x68'].apply(lambda x: x.replace('Aug','august')) \n",
        "    data['x68'] = data['x68'].apply(lambda x: x.replace('sept.','september')) \n",
        "    data['x68'] = data['x68'].apply(lambda x: x.replace('Oct','october')) \n",
        "    data['x68'] = data['x68'].apply(lambda x: x.replace('Nov','november')) \n",
        "    data['x68'] = data['x68'].apply(lambda x: x.replace('Dev','december'))\n",
        "     \n",
        "    ###Clean continent column x93\n",
        "    \n",
        "    data['x93'] = data['x93'].astype(str)   \n",
        "    data['x93'] = data['x93'].apply(lambda x: x.replace('euorpe','europe'))\n",
        "    \n",
        "    ###Get categorical, numerical and all variables list\n",
        "    \n",
        "    all_variables = list(data.keys())\n",
        "    numerical_variables = list(data._get_numeric_data().keys())\n",
        "    categorical_columns = all_variables.copy()\n",
        "    \n",
        "    for i in all_variables:\n",
        "        if i in numerical_variables:\n",
        "            categorical_columns.remove(i)\n",
        "    \n",
        "    del i\n",
        "    \n",
        "    ###Drop categorical columns to use imputer on missing values\n",
        "    \n",
        "    df_processed = data.drop(columns=categorical_columns)\n",
        "    \n",
        "    ###Fill NaN with mean values\n",
        "\n",
        "\n",
        "    imp_mean = SimpleImputer(missing_values=np.nan, strategy='mean')\n",
        "    imp_mean.fit(df_processed)\n",
        "    \n",
        "    columns = list(df_processed.columns)\n",
        "    \n",
        "    df_processed  = imp_mean.transform(df_processed)\n",
        "    \n",
        "    df_processed_filled = pd.DataFrame(data=df_processed, columns= columns)\n",
        "       \n",
        "    df_processed_filled =  df_processed_filled.join(data[categorical_columns])  \n",
        "    \n",
        "    df_processed_filled = df_processed_filled.reindex(sorted(df_processed_filled.columns), axis=1)\n",
        "    \n",
        "    return df_processed_filled"
      ],
      "execution_count": 0,
      "outputs": []
    },
    {
      "cell_type": "markdown",
      "metadata": {
        "id": "-BMnPSPsRV5G",
        "colab_type": "text"
      },
      "source": [
        "# ###PART 2 Encoding"
      ]
    },
    {
      "cell_type": "code",
      "metadata": {
        "id": "RYqvfJ0eBB9V",
        "colab_type": "code",
        "colab": {}
      },
      "source": [
        "###PART 2 Encoding\n",
        "    \n",
        "###Loading libraries\n",
        "    \n",
        "from sklearn.preprocessing import LabelEncoder, OneHotEncoder\n",
        "\n"
      ],
      "execution_count": 0,
      "outputs": []
    },
    {
      "cell_type": "code",
      "metadata": {
        "id": "u7i5tzX-6rPh",
        "colab_type": "code",
        "colab": {}
      },
      "source": [
        "\n",
        "def encoding(data , data_testing):    \n",
        "    \n",
        "    ###Get categorical, numerical and all variables list\n",
        "    \n",
        "    all_variables = list(data.keys())\n",
        "    numerical_variables = list(data._get_numeric_data().keys())\n",
        "    categorical_columns = all_variables.copy()\n",
        "    \n",
        "    for i in all_variables:\n",
        "        if i in numerical_variables:\n",
        "            categorical_columns.remove(i)\n",
        "            \n",
        "    ###For each categorical column we fit a label encoder, transform our column and add it to our new dataframe\n",
        "\n",
        "    label_encoders = {}\n",
        "    \n",
        "    for col in categorical_columns:\n",
        "        print(\"Encoding {}\".format(col))\n",
        "        new_le = LabelEncoder()\n",
        "        data[col] = new_le.fit_transform(data[col].astype(str))\n",
        "        label_encoders[col] = new_le\n",
        "    \n",
        "    ###Categorical columns index positions\n",
        "        \n",
        "    categorical_columns_idx = [data.columns.get_loc(col) for col in categorical_columns]\n",
        "    \n",
        "    ###For each categorical column we set we use one hot encoder to perform “binarization” of the category \n",
        "    \n",
        "    ohe = OneHotEncoder(categorical_features=categorical_columns_idx,sparse=False, handle_unknown=\"ignore\",n_values='auto')\n",
        "    \n",
        "    ###We fit the transform to our data \n",
        "    \n",
        "    data_train_np = ohe.fit_transform(data) \n",
        "    \n",
        "    ###We encode the same label encoder to  our data testing data (we dont make a new fit, we transform our categorical variables with previous fit)\n",
        "\n",
        "    for col in categorical_columns:\n",
        "        print(\"Encoding {}\".format(col))\n",
        "        data_testing[col] = label_encoders.get(col).transform(data_testing[col].astype(str))\n",
        "    \n",
        "    ###Categorical columns index positions\n",
        "        \n",
        "    categorical_columns_idx = [data_testing.columns.get_loc(col) for col in categorical_columns]\n",
        "    \n",
        "    ###We fit the previous one hot encoder to our testing dataset\n",
        "    \n",
        "    data_testing_np = ohe.transform(data_testing)\n",
        "       \n",
        "    ###Pass everything to a dataframe\n",
        "    \n",
        "    data_train_np_df = pd.DataFrame(data_train_np)\n",
        "    data_testing_np_df = pd.DataFrame(data_testing_np)\n",
        "    \n",
        "    return data_train_np_df , data_testing_np_df\n",
        "\n"
      ],
      "execution_count": 0,
      "outputs": []
    },
    {
      "cell_type": "markdown",
      "metadata": {
        "id": "aDg3IpJWRYvW",
        "colab_type": "text"
      },
      "source": [
        "# **###PART 3 Ensemble ML Model**"
      ]
    },
    {
      "cell_type": "code",
      "metadata": {
        "id": "ZUuedRpc6rZc",
        "colab_type": "code",
        "colab": {}
      },
      "source": [
        "###PART 3 Ensemble ML Model\n",
        "    \n",
        "###Loading libraries\n",
        "\n",
        "from sklearn.model_selection import train_test_split\n",
        "from sklearn.model_selection import GridSearchCV\n",
        "from sklearn.neighbors import KNeighborsClassifier\n",
        "from sklearn.ensemble import VotingClassifier, RandomForestClassifier\n",
        "from sklearn.linear_model import LogisticRegression\n",
        "import pickle\n",
        "from warnings import simplefilter\n",
        "simplefilter(action='ignore', category=FutureWarning)\n",
        "\n",
        "\n",
        "def ensemble_model(X_train, X_test, y_train, y_test):\n",
        "    \n",
        "    \n",
        "    #create new a knn model\n",
        "    knn = KNeighborsClassifier()\n",
        "    \n",
        "    #create a dictionary of all values we want to test for n_neighbors\n",
        "    \n",
        "    params_knn = {'n_neighbors': np.arange(1, 5)}\n",
        "    #use gridsearch to test all values for n_neighbors\n",
        "    knn_gs = GridSearchCV(knn, params_knn, cv=5)\n",
        "    \n",
        "    #fit model to training data\n",
        "    knn_gs.fit(X_train, y_train)\n",
        "    \n",
        "    #save best model\n",
        "    knn_best = knn_gs.best_estimator_\n",
        "    \n",
        "    #check best n_neigbors value\n",
        "    print(knn_gs.best_params_)\n",
        "    \n",
        "    #create a new rf classifier\n",
        "    rf = RandomForestClassifier()\n",
        "    \n",
        "    #create a dictionary of all values we want to test for n_estimators\n",
        "    params_rf = {'n_estimators': [200]}\n",
        "    \n",
        "    #use gridsearch to test all values for n_estimators\n",
        "    rf_gs = GridSearchCV(rf, params_rf, cv=5)\n",
        "    \n",
        "    #fit model to training data\n",
        "    rf_gs.fit(X_train, y_train)  \n",
        "    \n",
        "    #save best model\n",
        "    rf_best = rf_gs.best_estimator_\n",
        "    \n",
        "    #check best n_estimators value\n",
        "    print(rf_gs.best_params_)\n",
        "    \n",
        "    #create a new logistic regression model\n",
        "    log_reg = LogisticRegression(solver='liblinear')\n",
        "    \n",
        "    #fit the model to the training data\n",
        "    log_reg.fit(X_train, y_train)\n",
        "    \n",
        "    #test the three models with the test data and print their accuracy scores\n",
        "    print('knn: {}'.format(knn_best.score(X_test, y_test)))\n",
        "    print('rf: {}'.format(rf_best.score(X_test, y_test)))\n",
        "    print('log_reg: {}'.format(log_reg.score(X_test, y_test)))\n",
        "    \n",
        "    #create a dictionary of our models\n",
        "    estimators=[('knn', knn_best), ('rf', rf_best), ('log_reg', log_reg)]\n",
        "    \n",
        "    #create our voting classifier, inputting our models\n",
        "    ensemble = VotingClassifier(estimators, voting='soft')\n",
        "    \n",
        "    #fit model to training data\n",
        "    ensemble.fit(X_train, y_train)\n",
        "    \n",
        "    #test our model on the test data\n",
        "    ensemble.score(X_test, y_test)\n",
        "    \n",
        "    filename = 'finalized_model_ensemble.sav'\n",
        "    pickle.dump(ensemble, open(filename, 'wb'))\n",
        "    \n",
        "    return ensemble\n",
        "\n"
      ],
      "execution_count": 0,
      "outputs": []
    },
    {
      "cell_type": "markdown",
      "metadata": {
        "id": "tm8mG81ORg6W",
        "colab_type": "text"
      },
      "source": [
        "# ###PART 4 deep learning model"
      ]
    },
    {
      "cell_type": "code",
      "metadata": {
        "id": "zYAJED1I6riM",
        "colab_type": "code",
        "colab": {}
      },
      "source": [
        "###PART 4 deep learning model\n",
        "    \n",
        "###Loading libraries\n",
        "from keras import Sequential\n",
        "from keras.layers import Dense\n",
        "from keras.utils.vis_utils import plot_model\n",
        "\n",
        "    \n",
        "def deep_learning(X_train, X_test, y_train, y_test):\n",
        "    \n",
        "    ###initialize sequential\n",
        "    classifier = Sequential()\n",
        "    #First Hidden Layer\n",
        "    classifier.add(Dense(20, activation='relu', kernel_initializer='random_normal', input_dim=130))\n",
        "    #Second  Hidden Layer\n",
        "    classifier.add(Dense(20, activation='relu', kernel_initializer='random_normal'))\n",
        "    #Output Layer\n",
        "    classifier.add(Dense(1, activation='sigmoid', kernel_initializer='random_normal'))\n",
        "    \n",
        "    \n",
        "    #plot arquitecture\n",
        "    #plot_model(classifier, to_file='model_plot.png', show_shapes=True, show_layer_names=True)\n",
        "    \n",
        "    \n",
        "    #Compiling the neural network\n",
        "    classifier.compile(optimizer ='adam',loss='binary_crossentropy', metrics =['accuracy'])\n",
        "    \n",
        "    #Fitting the data to the training dataset\n",
        "    classifier.fit(X_train,y_train, batch_size=10, epochs=30)\n",
        "    \n",
        "    #eval model\n",
        "    eval_model=classifier.evaluate(X_train, y_train)\n",
        "    eval_model #Loss and accuracy of the model\n",
        "    \n",
        "    filename = 'finalized_model_NN.sav'\n",
        "    \n",
        "    return pickle.dump(classifier, open(filename, 'wb'))\n",
        "    \n"
      ],
      "execution_count": 0,
      "outputs": []
    },
    {
      "cell_type": "markdown",
      "metadata": {
        "id": "aG8k9vjJRjrp",
        "colab_type": "text"
      },
      "source": [
        "# ###PART 5 load model evaluation"
      ]
    },
    {
      "cell_type": "code",
      "metadata": {
        "id": "3RtOs90b6rk-",
        "colab_type": "code",
        "colab": {}
      },
      "source": [
        "###PART 5 load model evaluation\n",
        "\n",
        "def load_model(filename):\n",
        "    loaded_model = pickle.load(open(filename, 'rb'))\n",
        "    return loaded_model\n",
        "\n"
      ],
      "execution_count": 0,
      "outputs": []
    },
    {
      "cell_type": "markdown",
      "metadata": {
        "id": "ese7PiRJRseX",
        "colab_type": "text"
      },
      "source": [
        "# ####PART 6 Model evaluation"
      ]
    },
    {
      "cell_type": "code",
      "metadata": {
        "id": "ibG1ffzX6roU",
        "colab_type": "code",
        "colab": {}
      },
      "source": [
        "####PART 6 Model evaluation\n",
        "    \n",
        "### Ensemble evaluation\n",
        "\n",
        "def evaluate_ensemble(model,X_test,y_test):\n",
        "    \n",
        "    result = model.score(X_test, y_test)\n",
        "    \n",
        "    return result\n",
        "    \n",
        "### Ensemble evaluation\n",
        "    \n",
        "def evaluate_deep_learning_model(model,X_test,y_test):\n",
        "    \n",
        "    result= model.evaluate(X_test, y_test)\n",
        "    \n",
        "    return result"
      ],
      "execution_count": 0,
      "outputs": []
    },
    {
      "cell_type": "markdown",
      "metadata": {
        "id": "FSFk4dcPRu07",
        "colab_type": "text"
      },
      "source": [
        "# ####PART 7 Model prediction"
      ]
    },
    {
      "cell_type": "code",
      "metadata": {
        "id": "p18NCtOW6rt0",
        "colab_type": "code",
        "colab": {}
      },
      "source": [
        "####PART 7 Model prediction\n",
        "\n",
        "def predict_ensemble(model,X_test):\n",
        "    \n",
        "    predictions_prob = model.predict_proba(X_test)[:,1]\n",
        "    \n",
        "    predictions_prob_df = pd.DataFrame(predictions_prob)\n",
        "        \n",
        "    return predictions_prob_df\n",
        "\n",
        "\n",
        "\n",
        "def predict_deep_learning(model,X_test):\n",
        "    \n",
        "    predictions_prob = model.predict_proba(X_test)\n",
        "    \n",
        "    predictions_prob_df = pd.DataFrame(predictions_prob)\n",
        "        \n",
        "    return predictions_prob_df"
      ],
      "execution_count": 0,
      "outputs": []
    },
    {
      "cell_type": "markdown",
      "metadata": {
        "id": "zTBllBYA91uX",
        "colab_type": "text"
      },
      "source": [
        "# **create results**"
      ]
    },
    {
      "cell_type": "code",
      "metadata": {
        "id": "6orH7bPM9THk",
        "colab_type": "code",
        "colab": {
          "base_uri": "https://localhost:8080/",
          "height": 253
        },
        "outputId": "8e6a2781-15e6-45b4-c2c7-629d0b6d1bbb"
      },
      "source": [
        "####FINAL CREATE RESULTS\n",
        "    \n",
        "data_train = pd.read_csv(\"/content/drive/My Drive/Colab Notebooks/Code_challenge_train.csv\")\n",
        "data_predict = pd.read_csv(\"/content/drive/My Drive/Colab Notebooks/Code_challenge_test.csv\")\n",
        "\n",
        "data_train.head()"
      ],
      "execution_count": 99,
      "outputs": [
        {
          "output_type": "execute_result",
          "data": {
            "text/html": [
              "<div>\n",
              "<style scoped>\n",
              "    .dataframe tbody tr th:only-of-type {\n",
              "        vertical-align: middle;\n",
              "    }\n",
              "\n",
              "    .dataframe tbody tr th {\n",
              "        vertical-align: top;\n",
              "    }\n",
              "\n",
              "    .dataframe thead th {\n",
              "        text-align: right;\n",
              "    }\n",
              "</style>\n",
              "<table border=\"1\" class=\"dataframe\">\n",
              "  <thead>\n",
              "    <tr style=\"text-align: right;\">\n",
              "      <th></th>\n",
              "      <th>x0</th>\n",
              "      <th>x1</th>\n",
              "      <th>x2</th>\n",
              "      <th>x3</th>\n",
              "      <th>x4</th>\n",
              "      <th>x5</th>\n",
              "      <th>x6</th>\n",
              "      <th>x7</th>\n",
              "      <th>x8</th>\n",
              "      <th>x9</th>\n",
              "      <th>x10</th>\n",
              "      <th>x11</th>\n",
              "      <th>x12</th>\n",
              "      <th>x13</th>\n",
              "      <th>x14</th>\n",
              "      <th>x15</th>\n",
              "      <th>x16</th>\n",
              "      <th>x17</th>\n",
              "      <th>x18</th>\n",
              "      <th>x19</th>\n",
              "      <th>x20</th>\n",
              "      <th>x21</th>\n",
              "      <th>x22</th>\n",
              "      <th>x23</th>\n",
              "      <th>x24</th>\n",
              "      <th>x25</th>\n",
              "      <th>x26</th>\n",
              "      <th>x27</th>\n",
              "      <th>x28</th>\n",
              "      <th>x29</th>\n",
              "      <th>x30</th>\n",
              "      <th>x31</th>\n",
              "      <th>x32</th>\n",
              "      <th>x33</th>\n",
              "      <th>x34</th>\n",
              "      <th>x35</th>\n",
              "      <th>x36</th>\n",
              "      <th>x37</th>\n",
              "      <th>x38</th>\n",
              "      <th>x39</th>\n",
              "      <th>...</th>\n",
              "      <th>x61</th>\n",
              "      <th>x62</th>\n",
              "      <th>x63</th>\n",
              "      <th>x64</th>\n",
              "      <th>x65</th>\n",
              "      <th>x66</th>\n",
              "      <th>x67</th>\n",
              "      <th>x68</th>\n",
              "      <th>x69</th>\n",
              "      <th>x70</th>\n",
              "      <th>x71</th>\n",
              "      <th>x72</th>\n",
              "      <th>x73</th>\n",
              "      <th>x74</th>\n",
              "      <th>x75</th>\n",
              "      <th>x76</th>\n",
              "      <th>x77</th>\n",
              "      <th>x78</th>\n",
              "      <th>x79</th>\n",
              "      <th>x80</th>\n",
              "      <th>x81</th>\n",
              "      <th>x82</th>\n",
              "      <th>x83</th>\n",
              "      <th>x84</th>\n",
              "      <th>x85</th>\n",
              "      <th>x86</th>\n",
              "      <th>x87</th>\n",
              "      <th>x88</th>\n",
              "      <th>x89</th>\n",
              "      <th>x90</th>\n",
              "      <th>x91</th>\n",
              "      <th>x92</th>\n",
              "      <th>x93</th>\n",
              "      <th>x94</th>\n",
              "      <th>x95</th>\n",
              "      <th>x96</th>\n",
              "      <th>x97</th>\n",
              "      <th>x98</th>\n",
              "      <th>x99</th>\n",
              "      <th>y</th>\n",
              "    </tr>\n",
              "  </thead>\n",
              "  <tbody>\n",
              "    <tr>\n",
              "      <th>0</th>\n",
              "      <td>-17.933519</td>\n",
              "      <td>6.559220</td>\n",
              "      <td>2.422468</td>\n",
              "      <td>-27.737392</td>\n",
              "      <td>-12.080601</td>\n",
              "      <td>-3.892934</td>\n",
              "      <td>1.067466</td>\n",
              "      <td>0.935953</td>\n",
              "      <td>10.912007</td>\n",
              "      <td>1.107144</td>\n",
              "      <td>-6.930959</td>\n",
              "      <td>1.216195</td>\n",
              "      <td>-3.201791</td>\n",
              "      <td>-2.554698</td>\n",
              "      <td>18.641967</td>\n",
              "      <td>4.355568</td>\n",
              "      <td>2.930575</td>\n",
              "      <td>-8.837017</td>\n",
              "      <td>11.130022</td>\n",
              "      <td>29.003277</td>\n",
              "      <td>28.067383</td>\n",
              "      <td>6.858563</td>\n",
              "      <td>6.639400</td>\n",
              "      <td>-11.902308</td>\n",
              "      <td>1.972676</td>\n",
              "      <td>-2.209551</td>\n",
              "      <td>13.751183</td>\n",
              "      <td>-53.210769</td>\n",
              "      <td>0.118928</td>\n",
              "      <td>-2.378699</td>\n",
              "      <td>-1.363484</td>\n",
              "      <td>6.198709</td>\n",
              "      <td>-3.303896</td>\n",
              "      <td>-14.452810</td>\n",
              "      <td>bmw</td>\n",
              "      <td>thur</td>\n",
              "      <td>-4.732855</td>\n",
              "      <td>0.381673</td>\n",
              "      <td>3.315615</td>\n",
              "      <td>2.126180</td>\n",
              "      <td>...</td>\n",
              "      <td>-1.848540</td>\n",
              "      <td>-10.420598</td>\n",
              "      <td>-43.472100</td>\n",
              "      <td>-4.234014</td>\n",
              "      <td>0.228835</td>\n",
              "      <td>-4.992379</td>\n",
              "      <td>-0.730363</td>\n",
              "      <td>sept.</td>\n",
              "      <td>113.609078</td>\n",
              "      <td>27.357033</td>\n",
              "      <td>7.089389</td>\n",
              "      <td>35.714730</td>\n",
              "      <td>3.203123</td>\n",
              "      <td>-30.367210</td>\n",
              "      <td>-6.438588</td>\n",
              "      <td>13.607362</td>\n",
              "      <td>-14.699618</td>\n",
              "      <td>17.981694</td>\n",
              "      <td>2.307000</td>\n",
              "      <td>-49.668818</td>\n",
              "      <td>6.888126</td>\n",
              "      <td>11.126120</td>\n",
              "      <td>33.192869</td>\n",
              "      <td>5.516509</td>\n",
              "      <td>8.060383</td>\n",
              "      <td>10.164888</td>\n",
              "      <td>-0.945972</td>\n",
              "      <td>-0.268380</td>\n",
              "      <td>-1.395421</td>\n",
              "      <td>-94.582358</td>\n",
              "      <td>11.107047</td>\n",
              "      <td>0.093337</td>\n",
              "      <td>asia</td>\n",
              "      <td>0.421524</td>\n",
              "      <td>35.259947</td>\n",
              "      <td>8.994318</td>\n",
              "      <td>-21.000182</td>\n",
              "      <td>-0.686588</td>\n",
              "      <td>2.949106</td>\n",
              "      <td>1</td>\n",
              "    </tr>\n",
              "    <tr>\n",
              "      <th>1</th>\n",
              "      <td>-37.214754</td>\n",
              "      <td>10.774930</td>\n",
              "      <td>5.404072</td>\n",
              "      <td>21.354738</td>\n",
              "      <td>0.612690</td>\n",
              "      <td>-3.093533</td>\n",
              "      <td>6.161558</td>\n",
              "      <td>-0.972156</td>\n",
              "      <td>-5.222169</td>\n",
              "      <td>0.384969</td>\n",
              "      <td>55.127380</td>\n",
              "      <td>0.226435</td>\n",
              "      <td>0.080309</td>\n",
              "      <td>-6.158352</td>\n",
              "      <td>-0.068433</td>\n",
              "      <td>0.671255</td>\n",
              "      <td>1.047602</td>\n",
              "      <td>11.512884</td>\n",
              "      <td>22.593810</td>\n",
              "      <td>30.730435</td>\n",
              "      <td>22.691932</td>\n",
              "      <td>1.638203</td>\n",
              "      <td>22.992367</td>\n",
              "      <td>-3.426358</td>\n",
              "      <td>-4.425386</td>\n",
              "      <td>-21.848389</td>\n",
              "      <td>-15.585629</td>\n",
              "      <td>23.278298</td>\n",
              "      <td>5.798608</td>\n",
              "      <td>-0.744079</td>\n",
              "      <td>-1.127306</td>\n",
              "      <td>-6.110792</td>\n",
              "      <td>11.449099</td>\n",
              "      <td>-15.384004</td>\n",
              "      <td>Toyota</td>\n",
              "      <td>wednesday</td>\n",
              "      <td>-0.077339</td>\n",
              "      <td>10.983774</td>\n",
              "      <td>6.411503</td>\n",
              "      <td>3.849885</td>\n",
              "      <td>...</td>\n",
              "      <td>5.532411</td>\n",
              "      <td>-6.463038</td>\n",
              "      <td>-13.503320</td>\n",
              "      <td>-0.856349</td>\n",
              "      <td>5.708973</td>\n",
              "      <td>0.956286</td>\n",
              "      <td>-0.438181</td>\n",
              "      <td>July</td>\n",
              "      <td>-83.422420</td>\n",
              "      <td>-9.414394</td>\n",
              "      <td>19.078639</td>\n",
              "      <td>0.201859</td>\n",
              "      <td>20.001259</td>\n",
              "      <td>-8.073947</td>\n",
              "      <td>30.530882</td>\n",
              "      <td>21.408708</td>\n",
              "      <td>-10.026045</td>\n",
              "      <td>-31.950461</td>\n",
              "      <td>-1.667241</td>\n",
              "      <td>14.056597</td>\n",
              "      <td>-2.625740</td>\n",
              "      <td>-18.588051</td>\n",
              "      <td>-35.209305</td>\n",
              "      <td>13.131763</td>\n",
              "      <td>-4.127880</td>\n",
              "      <td>-7.792043</td>\n",
              "      <td>-1.058691</td>\n",
              "      <td>0.091408</td>\n",
              "      <td>-4.768139</td>\n",
              "      <td>1.474587</td>\n",
              "      <td>-1.991846</td>\n",
              "      <td>15.666187</td>\n",
              "      <td>asia</td>\n",
              "      <td>-0.132764</td>\n",
              "      <td>-1.192563</td>\n",
              "      <td>3.885024</td>\n",
              "      <td>-37.886523</td>\n",
              "      <td>-7.730392</td>\n",
              "      <td>-1.107330</td>\n",
              "      <td>0</td>\n",
              "    </tr>\n",
              "    <tr>\n",
              "      <th>2</th>\n",
              "      <td>0.330441</td>\n",
              "      <td>-19.609972</td>\n",
              "      <td>-1.331804</td>\n",
              "      <td>-15.153892</td>\n",
              "      <td>19.710240</td>\n",
              "      <td>19.077300</td>\n",
              "      <td>-1.747110</td>\n",
              "      <td>0.545570</td>\n",
              "      <td>-1.464609</td>\n",
              "      <td>3.670570</td>\n",
              "      <td>-23.198723</td>\n",
              "      <td>-1.728167</td>\n",
              "      <td>0.194729</td>\n",
              "      <td>15.425624</td>\n",
              "      <td>-7.377787</td>\n",
              "      <td>-5.148825</td>\n",
              "      <td>7.518404</td>\n",
              "      <td>-4.618872</td>\n",
              "      <td>47.039602</td>\n",
              "      <td>37.531334</td>\n",
              "      <td>29.281857</td>\n",
              "      <td>-11.966419</td>\n",
              "      <td>-69.006396</td>\n",
              "      <td>13.458467</td>\n",
              "      <td>-7.598210</td>\n",
              "      <td>15.585958</td>\n",
              "      <td>1.375171</td>\n",
              "      <td>33.139124</td>\n",
              "      <td>5.316062</td>\n",
              "      <td>-2.618426</td>\n",
              "      <td>0.275117</td>\n",
              "      <td>0.925513</td>\n",
              "      <td>-1.719141</td>\n",
              "      <td>-9.167911</td>\n",
              "      <td>bmw</td>\n",
              "      <td>thurday</td>\n",
              "      <td>2.064124</td>\n",
              "      <td>12.071688</td>\n",
              "      <td>7.392408</td>\n",
              "      <td>-2.868111</td>\n",
              "      <td>...</td>\n",
              "      <td>-1.131575</td>\n",
              "      <td>13.972549</td>\n",
              "      <td>4.184259</td>\n",
              "      <td>1.178784</td>\n",
              "      <td>19.211008</td>\n",
              "      <td>-2.178992</td>\n",
              "      <td>-2.838677</td>\n",
              "      <td>July</td>\n",
              "      <td>-19.443606</td>\n",
              "      <td>57.715255</td>\n",
              "      <td>9.642057</td>\n",
              "      <td>-35.606532</td>\n",
              "      <td>6.066999</td>\n",
              "      <td>41.019791</td>\n",
              "      <td>-4.474584</td>\n",
              "      <td>-12.992872</td>\n",
              "      <td>2.485948</td>\n",
              "      <td>25.453160</td>\n",
              "      <td>-2.649664</td>\n",
              "      <td>13.336220</td>\n",
              "      <td>7.007135</td>\n",
              "      <td>-9.323044</td>\n",
              "      <td>-15.221544</td>\n",
              "      <td>1.545009</td>\n",
              "      <td>-0.146546</td>\n",
              "      <td>-0.975971</td>\n",
              "      <td>4.217668</td>\n",
              "      <td>-0.196222</td>\n",
              "      <td>1.019800</td>\n",
              "      <td>5.160726</td>\n",
              "      <td>17.132840</td>\n",
              "      <td>-5.333012</td>\n",
              "      <td>asia</td>\n",
              "      <td>1.432308</td>\n",
              "      <td>-3.435427</td>\n",
              "      <td>-1.133450</td>\n",
              "      <td>7.426099</td>\n",
              "      <td>-5.945534</td>\n",
              "      <td>1.316312</td>\n",
              "      <td>0</td>\n",
              "    </tr>\n",
              "    <tr>\n",
              "      <th>3</th>\n",
              "      <td>-13.709765</td>\n",
              "      <td>-8.011390</td>\n",
              "      <td>-1.536483</td>\n",
              "      <td>23.129497</td>\n",
              "      <td>27.880879</td>\n",
              "      <td>20.573991</td>\n",
              "      <td>-1.617689</td>\n",
              "      <td>4.129694</td>\n",
              "      <td>1.139928</td>\n",
              "      <td>2.912838</td>\n",
              "      <td>-4.266473</td>\n",
              "      <td>-0.611641</td>\n",
              "      <td>-2.266844</td>\n",
              "      <td>-4.727266</td>\n",
              "      <td>1.947570</td>\n",
              "      <td>-7.887527</td>\n",
              "      <td>10.183794</td>\n",
              "      <td>-5.534296</td>\n",
              "      <td>70.134427</td>\n",
              "      <td>20.739051</td>\n",
              "      <td>-9.891156</td>\n",
              "      <td>-3.115887</td>\n",
              "      <td>-45.203496</td>\n",
              "      <td>11.721152</td>\n",
              "      <td>-0.891464</td>\n",
              "      <td>16.215744</td>\n",
              "      <td>-17.894719</td>\n",
              "      <td>14.483436</td>\n",
              "      <td>0.268279</td>\n",
              "      <td>1.632825</td>\n",
              "      <td>0.648522</td>\n",
              "      <td>-3.691137</td>\n",
              "      <td>1.713175</td>\n",
              "      <td>6.759264</td>\n",
              "      <td>Toyota</td>\n",
              "      <td>wed</td>\n",
              "      <td>1.727615</td>\n",
              "      <td>-1.768382</td>\n",
              "      <td>-2.833059</td>\n",
              "      <td>0.237976</td>\n",
              "      <td>...</td>\n",
              "      <td>9.685368</td>\n",
              "      <td>4.275216</td>\n",
              "      <td>23.696119</td>\n",
              "      <td>6.931587</td>\n",
              "      <td>-0.978046</td>\n",
              "      <td>-3.046061</td>\n",
              "      <td>0.088251</td>\n",
              "      <td>Apr</td>\n",
              "      <td>-38.573263</td>\n",
              "      <td>17.024405</td>\n",
              "      <td>21.338080</td>\n",
              "      <td>-30.778710</td>\n",
              "      <td>-3.442964</td>\n",
              "      <td>-7.106684</td>\n",
              "      <td>-33.571893</td>\n",
              "      <td>10.145435</td>\n",
              "      <td>6.098920</td>\n",
              "      <td>17.204587</td>\n",
              "      <td>-2.067339</td>\n",
              "      <td>-5.448625</td>\n",
              "      <td>-1.949064</td>\n",
              "      <td>-1.242046</td>\n",
              "      <td>-24.449297</td>\n",
              "      <td>11.268342</td>\n",
              "      <td>-3.066738</td>\n",
              "      <td>-6.402145</td>\n",
              "      <td>2.117924</td>\n",
              "      <td>0.336568</td>\n",
              "      <td>-0.868633</td>\n",
              "      <td>-26.589765</td>\n",
              "      <td>12.292136</td>\n",
              "      <td>4.177925</td>\n",
              "      <td>asia</td>\n",
              "      <td>0.733069</td>\n",
              "      <td>4.372964</td>\n",
              "      <td>15.529931</td>\n",
              "      <td>29.712153</td>\n",
              "      <td>2.240740</td>\n",
              "      <td>0.477195</td>\n",
              "      <td>0</td>\n",
              "    </tr>\n",
              "    <tr>\n",
              "      <th>4</th>\n",
              "      <td>-4.202598</td>\n",
              "      <td>7.076210</td>\n",
              "      <td>8.881550</td>\n",
              "      <td>23.600777</td>\n",
              "      <td>26.232164</td>\n",
              "      <td>-14.462320</td>\n",
              "      <td>3.231193</td>\n",
              "      <td>-0.069364</td>\n",
              "      <td>-7.310536</td>\n",
              "      <td>-2.268700</td>\n",
              "      <td>1.134867</td>\n",
              "      <td>1.074985</td>\n",
              "      <td>-0.937646</td>\n",
              "      <td>-2.092563</td>\n",
              "      <td>-3.835046</td>\n",
              "      <td>4.566927</td>\n",
              "      <td>2.011431</td>\n",
              "      <td>-1.002053</td>\n",
              "      <td>-23.097300</td>\n",
              "      <td>13.771753</td>\n",
              "      <td>9.592197</td>\n",
              "      <td>-4.136528</td>\n",
              "      <td>-16.266403</td>\n",
              "      <td>-6.009268</td>\n",
              "      <td>3.941376</td>\n",
              "      <td>-8.488938</td>\n",
              "      <td>3.658352</td>\n",
              "      <td>-9.011427</td>\n",
              "      <td>-4.274480</td>\n",
              "      <td>0.280249</td>\n",
              "      <td>-0.218360</td>\n",
              "      <td>3.195555</td>\n",
              "      <td>3.160442</td>\n",
              "      <td>-26.004919</td>\n",
              "      <td>Toyota</td>\n",
              "      <td>wednesday</td>\n",
              "      <td>-4.269696</td>\n",
              "      <td>-3.414224</td>\n",
              "      <td>0.864827</td>\n",
              "      <td>-8.271576</td>\n",
              "      <td>...</td>\n",
              "      <td>-0.137332</td>\n",
              "      <td>-9.436784</td>\n",
              "      <td>-9.919847</td>\n",
              "      <td>1.357206</td>\n",
              "      <td>3.369164</td>\n",
              "      <td>2.070446</td>\n",
              "      <td>-2.959965</td>\n",
              "      <td>Aug</td>\n",
              "      <td>-49.138305</td>\n",
              "      <td>46.246520</td>\n",
              "      <td>7.806416</td>\n",
              "      <td>-3.127775</td>\n",
              "      <td>10.798833</td>\n",
              "      <td>38.876795</td>\n",
              "      <td>-1.159631</td>\n",
              "      <td>11.284698</td>\n",
              "      <td>13.679140</td>\n",
              "      <td>27.647763</td>\n",
              "      <td>2.214562</td>\n",
              "      <td>19.447361</td>\n",
              "      <td>17.971631</td>\n",
              "      <td>-1.338839</td>\n",
              "      <td>-15.760102</td>\n",
              "      <td>-4.368028</td>\n",
              "      <td>-0.408023</td>\n",
              "      <td>-1.433767</td>\n",
              "      <td>3.173393</td>\n",
              "      <td>0.248462</td>\n",
              "      <td>1.206593</td>\n",
              "      <td>61.178243</td>\n",
              "      <td>6.218743</td>\n",
              "      <td>8.715709</td>\n",
              "      <td>asia</td>\n",
              "      <td>-0.977502</td>\n",
              "      <td>-30.085932</td>\n",
              "      <td>-8.244312</td>\n",
              "      <td>66.540331</td>\n",
              "      <td>-3.478195</td>\n",
              "      <td>-2.869702</td>\n",
              "      <td>1</td>\n",
              "    </tr>\n",
              "  </tbody>\n",
              "</table>\n",
              "<p>5 rows × 101 columns</p>\n",
              "</div>"
            ],
            "text/plain": [
              "          x0         x1        x2         x3  ...        x97       x98       x99  y\n",
              "0 -17.933519   6.559220  2.422468 -27.737392  ... -21.000182 -0.686588  2.949106  1\n",
              "1 -37.214754  10.774930  5.404072  21.354738  ... -37.886523 -7.730392 -1.107330  0\n",
              "2   0.330441 -19.609972 -1.331804 -15.153892  ...   7.426099 -5.945534  1.316312  0\n",
              "3 -13.709765  -8.011390 -1.536483  23.129497  ...  29.712153  2.240740  0.477195  0\n",
              "4  -4.202598   7.076210  8.881550  23.600777  ...  66.540331 -3.478195 -2.869702  1\n",
              "\n",
              "[5 rows x 101 columns]"
            ]
          },
          "metadata": {
            "tags": []
          },
          "execution_count": 99
        }
      ]
    },
    {
      "cell_type": "code",
      "metadata": {
        "id": "9LJYRs4V_g-8",
        "colab_type": "code",
        "colab": {
          "base_uri": "https://localhost:8080/",
          "height": 607
        },
        "outputId": "d04118e3-9f27-449d-ce2e-2c3354253bbe"
      },
      "source": [
        "import matplotlib.pyplot as plt\n",
        "import seaborn as sns\n",
        "\n",
        "total = data_train.isnull().sum().sort_values(ascending=False)\n",
        "percent = (data_train.isnull().sum()/data_train.isnull().count()).sort_values(ascending=False)\n",
        "\n",
        "missing_data = pd.concat([total, percent], axis=1, keys=['Total', 'Percent'])\n",
        "\n",
        "f, ax = plt.subplots(figsize=(15, 6))\n",
        "\n",
        "\n",
        "plt.xticks(rotation='90')\n",
        "sns.barplot(x=missing_data[:20].index, y=missing_data['Percent'][:20])\n",
        "plt.xlabel('Features', fontsize=15)\n",
        "plt.ylabel('Percent of missing values', fontsize=15)\n",
        "plt.title('Percent missing data by feature', fontsize=15)\n",
        "missing_data.head()\n",
        "\n"
      ],
      "execution_count": 100,
      "outputs": [
        {
          "output_type": "execute_result",
          "data": {
            "text/html": [
              "<div>\n",
              "<style scoped>\n",
              "    .dataframe tbody tr th:only-of-type {\n",
              "        vertical-align: middle;\n",
              "    }\n",
              "\n",
              "    .dataframe tbody tr th {\n",
              "        vertical-align: top;\n",
              "    }\n",
              "\n",
              "    .dataframe thead th {\n",
              "        text-align: right;\n",
              "    }\n",
              "</style>\n",
              "<table border=\"1\" class=\"dataframe\">\n",
              "  <thead>\n",
              "    <tr style=\"text-align: right;\">\n",
              "      <th></th>\n",
              "      <th>Total</th>\n",
              "      <th>Percent</th>\n",
              "    </tr>\n",
              "  </thead>\n",
              "  <tbody>\n",
              "    <tr>\n",
              "      <th>x55</th>\n",
              "      <td>16</td>\n",
              "      <td>0.000400</td>\n",
              "    </tr>\n",
              "    <tr>\n",
              "      <th>x96</th>\n",
              "      <td>15</td>\n",
              "      <td>0.000375</td>\n",
              "    </tr>\n",
              "    <tr>\n",
              "      <th>x21</th>\n",
              "      <td>15</td>\n",
              "      <td>0.000375</td>\n",
              "    </tr>\n",
              "    <tr>\n",
              "      <th>x18</th>\n",
              "      <td>13</td>\n",
              "      <td>0.000325</td>\n",
              "    </tr>\n",
              "    <tr>\n",
              "      <th>x63</th>\n",
              "      <td>13</td>\n",
              "      <td>0.000325</td>\n",
              "    </tr>\n",
              "  </tbody>\n",
              "</table>\n",
              "</div>"
            ],
            "text/plain": [
              "     Total   Percent\n",
              "x55     16  0.000400\n",
              "x96     15  0.000375\n",
              "x21     15  0.000375\n",
              "x18     13  0.000325\n",
              "x63     13  0.000325"
            ]
          },
          "metadata": {
            "tags": []
          },
          "execution_count": 100
        },
        {
          "output_type": "display_data",
          "data": {
            "image/png": "[encoded data removed]",
            "text/plain": [
              "<Figure size 1080x432 with 1 Axes>"
            ]
          },
          "metadata": {
            "tags": []
          }
        }
      ]
    },
    {
      "cell_type": "markdown",
      "metadata": {
        "id": "wBjAXfIPACG1",
        "colab_type": "text"
      },
      "source": [
        "In the above picture we can see the 20th biggest percentages of missing values across all feature vectors. Although not much in percentage (>5%), we procede to impute mean values across all missing values."
      ]
    },
    {
      "cell_type": "code",
      "metadata": {
        "id": "jUjhRKKm9w2c",
        "colab_type": "code",
        "colab": {}
      },
      "source": [
        "#Clean and fill datasets\n",
        "data_train_cleaned = clean_fill(data_train)\n",
        "data_predict_cleaned = clean_fill(data_predict)"
      ],
      "execution_count": 0,
      "outputs": []
    },
    {
      "cell_type": "code",
      "metadata": {
        "id": "FTIWMySMAdM0",
        "colab_type": "code",
        "colab": {
          "base_uri": "https://localhost:8080/",
          "height": 241
        },
        "outputId": "cf510396-6cb2-42ae-e75b-2b2e5847babb"
      },
      "source": [
        "#Encode datasets\n",
        "data_train_encoded, data_predict_encoded =  encoding(data_train_cleaned , data_predict_cleaned)\n"
      ],
      "execution_count": 102,
      "outputs": [
        {
          "output_type": "stream",
          "text": [
            "/usr/local/lib/python3.6/dist-packages/sklearn/preprocessing/_encoders.py:391: DeprecationWarning: Passing 'n_values' is deprecated in version 0.20 and will be removed in 0.22. n_values='auto' can be replaced with categories='auto'.\n",
            "  warnings.warn(msg, DeprecationWarning)\n",
            "/usr/local/lib/python3.6/dist-packages/sklearn/preprocessing/_encoders.py:451: DeprecationWarning: The 'categorical_features' keyword is deprecated in version 0.20 and will be removed in 0.22. You can use the ColumnTransformer instead.\n",
            "  \"use the ColumnTransformer instead.\", DeprecationWarning)\n"
          ],
          "name": "stderr"
        },
        {
          "output_type": "stream",
          "text": [
            "Encoding x34\n",
            "Encoding x35\n",
            "Encoding x68\n",
            "Encoding x93\n",
            "Encoding x34\n",
            "Encoding x35\n",
            "Encoding x68\n",
            "Encoding x93\n"
          ],
          "name": "stdout"
        }
      ]
    },
    {
      "cell_type": "markdown",
      "metadata": {
        "id": "3RQAY5jiQMFY",
        "colab_type": "text"
      },
      "source": [
        "# #Split data into testing and training"
      ]
    },
    {
      "cell_type": "code",
      "metadata": {
        "id": "eO9veR8NP12Q",
        "colab_type": "code",
        "colab": {}
      },
      "source": [
        "X_train, X_test, y_train, y_test = train_test_split(data_train_encoded.drop([130], axis=1), data_train_encoded[130], test_size=0.30, random_state=0)"
      ],
      "execution_count": 0,
      "outputs": []
    },
    {
      "cell_type": "markdown",
      "metadata": {
        "id": "gIxmTCM6BjuW",
        "colab_type": "text"
      },
      "source": [
        "# #train and save models to disk"
      ]
    },
    {
      "cell_type": "code",
      "metadata": {
        "id": "SBGmmjUhB18o",
        "colab_type": "code",
        "colab": {
          "base_uri": "https://localhost:8080/",
          "height": 102
        },
        "outputId": "19ebdef6-d5cc-4ad8-94e9-c8d2fd1cdb16"
      },
      "source": [
        "ensemble = ensemble_model(X_train, X_test, y_train, y_test)"
      ],
      "execution_count": 116,
      "outputs": [
        {
          "output_type": "stream",
          "text": [
            "{'n_neighbors': 3}\n",
            "{'n_estimators': 200}\n",
            "knn: 0.8578697139044124\n",
            "rf: 0.8680457085661857\n",
            "log_reg: 0.8886479272666611\n"
          ],
          "name": "stdout"
        }
      ]
    },
    {
      "cell_type": "code",
      "metadata": {
        "id": "b2NCk1wzBhOU",
        "colab_type": "code",
        "colab": {
          "base_uri": "https://localhost:8080/",
          "height": 1000
        },
        "outputId": "b6cef368-9ec3-44fd-ada4-bee9200513ed"
      },
      "source": [
        "deep_learning(X_train, X_test, y_train, y_test)"
      ],
      "execution_count": 105,
      "outputs": [
        {
          "output_type": "stream",
          "text": [
            "Epoch 1/30\n",
            "27974/27974 [==============================] - 4s 151us/step - loss: 0.2132 - acc: 0.9147\n",
            "Epoch 2/30\n",
            "27974/27974 [==============================] - 4s 129us/step - loss: 0.1036 - acc: 0.9681\n",
            "Epoch 3/30\n",
            "27974/27974 [==============================] - 4s 127us/step - loss: 0.0858 - acc: 0.9748\n",
            "Epoch 4/30\n",
            "27974/27974 [==============================] - 4s 128us/step - loss: 0.0772 - acc: 0.9788\n",
            "Epoch 5/30\n",
            "27974/27974 [==============================] - 4s 127us/step - loss: 0.0702 - acc: 0.9816\n",
            "Epoch 6/30\n",
            "27974/27974 [==============================] - 4s 127us/step - loss: 0.0665 - acc: 0.9827\n",
            "Epoch 7/30\n",
            "27974/27974 [==============================] - 4s 125us/step - loss: 0.0615 - acc: 0.9839\n",
            "Epoch 8/30\n",
            "27974/27974 [==============================] - 4s 128us/step - loss: 0.0593 - acc: 0.9851\n",
            "Epoch 9/30\n",
            "27974/27974 [==============================] - 4s 128us/step - loss: 0.0577 - acc: 0.9850\n",
            "Epoch 10/30\n",
            "27974/27974 [==============================] - 4s 128us/step - loss: 0.0550 - acc: 0.9862\n",
            "Epoch 11/30\n",
            "27974/27974 [==============================] - 4s 130us/step - loss: 0.0528 - acc: 0.9872\n",
            "Epoch 12/30\n",
            "27974/27974 [==============================] - 4s 130us/step - loss: 0.0503 - acc: 0.9881\n",
            "Epoch 13/30\n",
            "27974/27974 [==============================] - 4s 129us/step - loss: 0.0497 - acc: 0.9881\n",
            "Epoch 14/30\n",
            "27974/27974 [==============================] - 4s 131us/step - loss: 0.0472 - acc: 0.9885\n",
            "Epoch 15/30\n",
            "27974/27974 [==============================] - 4s 129us/step - loss: 0.0466 - acc: 0.9888\n",
            "Epoch 16/30\n",
            "27974/27974 [==============================] - 4s 129us/step - loss: 0.0452 - acc: 0.9887\n",
            "Epoch 17/30\n",
            "27974/27974 [==============================] - 4s 129us/step - loss: 0.0447 - acc: 0.9887\n",
            "Epoch 18/30\n",
            "27974/27974 [==============================] - 4s 128us/step - loss: 0.0422 - acc: 0.9897\n",
            "Epoch 19/30\n",
            "27974/27974 [==============================] - 4s 129us/step - loss: 0.0429 - acc: 0.9890\n",
            "Epoch 20/30\n",
            "27974/27974 [==============================] - 4s 129us/step - loss: 0.0393 - acc: 0.9903\n",
            "Epoch 21/30\n",
            "27974/27974 [==============================] - 4s 132us/step - loss: 0.0393 - acc: 0.9905\n",
            "Epoch 22/30\n",
            "27974/27974 [==============================] - 4s 130us/step - loss: 0.0399 - acc: 0.9901\n",
            "Epoch 23/30\n",
            "27974/27974 [==============================] - 4s 129us/step - loss: 0.0382 - acc: 0.9910\n",
            "Epoch 24/30\n",
            "27974/27974 [==============================] - 4s 129us/step - loss: 0.0368 - acc: 0.9905\n",
            "Epoch 25/30\n",
            "27974/27974 [==============================] - 4s 131us/step - loss: 0.0360 - acc: 0.9912\n",
            "Epoch 26/30\n",
            "27974/27974 [==============================] - 4s 130us/step - loss: 0.0360 - acc: 0.9903\n",
            "Epoch 27/30\n",
            "27974/27974 [==============================] - 4s 129us/step - loss: 0.0348 - acc: 0.9910\n",
            "Epoch 28/30\n",
            "27974/27974 [==============================] - 4s 129us/step - loss: 0.0353 - acc: 0.9910\n",
            "Epoch 29/30\n",
            "27974/27974 [==============================] - 4s 130us/step - loss: 0.0347 - acc: 0.9911\n",
            "Epoch 30/30\n",
            "27974/27974 [==============================] - 4s 130us/step - loss: 0.0348 - acc: 0.9910\n",
            "27974/27974 [==============================] - 1s 27us/step\n"
          ],
          "name": "stdout"
        }
      ]
    },
    {
      "cell_type": "markdown",
      "metadata": {
        "id": "2Fdv-f6MCBeI",
        "colab_type": "text"
      },
      "source": [
        "# #load trained models"
      ]
    },
    {
      "cell_type": "code",
      "metadata": {
        "id": "Vis7_YqJCKTG",
        "colab_type": "code",
        "colab": {}
      },
      "source": [
        "#ensemble_pickle = load_model('/content/drive/My Drive/Colab Notebooks/finalized_model_ensemble.sav')\n",
        "\n",
        "ensemble_pickle = ensemble"
      ],
      "execution_count": 0,
      "outputs": []
    },
    {
      "cell_type": "code",
      "metadata": {
        "id": "-0QmjYBJEBUA",
        "colab_type": "code",
        "colab": {}
      },
      "source": [
        "deep_learning_pickle = load_model('/content/drive/My Drive/Colab Notebooks/finalized_model_NN.sav')"
      ],
      "execution_count": 0,
      "outputs": []
    },
    {
      "cell_type": "markdown",
      "metadata": {
        "id": "yLtODHmSEmeA",
        "colab_type": "text"
      },
      "source": [
        "# #evaluate trained models"
      ]
    },
    {
      "cell_type": "code",
      "metadata": {
        "id": "CnmbldaKEoQw",
        "colab_type": "code",
        "colab": {
          "base_uri": "https://localhost:8080/",
          "height": 34
        },
        "outputId": "5387a477-0ead-4aea-9368-86770612eeb3"
      },
      "source": [
        "ensemble_score = evaluate_ensemble(ensemble_pickle,X_train,y_train)\n",
        "ensemble_score"
      ],
      "execution_count": 119,
      "outputs": [
        {
          "output_type": "execute_result",
          "data": {
            "text/plain": [
              "0.9691856724100951"
            ]
          },
          "metadata": {
            "tags": []
          },
          "execution_count": 119
        }
      ]
    },
    {
      "cell_type": "code",
      "metadata": {
        "id": "lTM-ZxV_VRjf",
        "colab_type": "code",
        "colab": {
          "base_uri": "https://localhost:8080/",
          "height": 34
        },
        "outputId": "e33b371c-bec9-4621-b82f-263c751f12b8"
      },
      "source": [
        "ensemble_score = evaluate_ensemble(ensemble_pickle,X_test,y_test)\n",
        "ensemble_score"
      ],
      "execution_count": 120,
      "outputs": [
        {
          "output_type": "execute_result",
          "data": {
            "text/plain": [
              "0.8994077904746017"
            ]
          },
          "metadata": {
            "tags": []
          },
          "execution_count": 120
        }
      ]
    },
    {
      "cell_type": "code",
      "metadata": {
        "id": "GgWMkXDaEutO",
        "colab_type": "code",
        "colab": {
          "base_uri": "https://localhost:8080/",
          "height": 68
        },
        "outputId": "b3bd5d20-85ad-4d2a-8c76-015411d26e1d"
      },
      "source": [
        "deep_learning_score = evaluate_deep_learning_model(deep_learning_pickle,X_train,y_train)\n",
        "\n",
        "print('Loss & accuraccy')\n",
        "deep_learning_score"
      ],
      "execution_count": 121,
      "outputs": [
        {
          "output_type": "stream",
          "text": [
            "27974/27974 [==============================] - 1s 30us/step\n",
            "Loss & accuraccy\n"
          ],
          "name": "stdout"
        },
        {
          "output_type": "execute_result",
          "data": {
            "text/plain": [
              "[0.016340568015849814, 0.9956030599842711]"
            ]
          },
          "metadata": {
            "tags": []
          },
          "execution_count": 121
        }
      ]
    },
    {
      "cell_type": "code",
      "metadata": {
        "id": "0umafs3FVktI",
        "colab_type": "code",
        "colab": {
          "base_uri": "https://localhost:8080/",
          "height": 68
        },
        "outputId": "01409180-becd-4144-8a86-fd1f70c1e98c"
      },
      "source": [
        "deep_learning_score = evaluate_deep_learning_model(deep_learning_pickle,X_test,y_test)\n",
        "\n",
        "print('Loss & accuraccy')\n",
        "deep_learning_score"
      ],
      "execution_count": 122,
      "outputs": [
        {
          "output_type": "stream",
          "text": [
            "11989/11989 [==============================] - 0s 24us/step\n",
            "Loss & accuraccy\n"
          ],
          "name": "stdout"
        },
        {
          "output_type": "execute_result",
          "data": {
            "text/plain": [
              "[0.11309239327814655, 0.9793143715072149]"
            ]
          },
          "metadata": {
            "tags": []
          },
          "execution_count": 122
        }
      ]
    },
    {
      "cell_type": "markdown",
      "metadata": {
        "id": "NWO-7IhJW3Sn",
        "colab_type": "text"
      },
      "source": [
        "# #ROC - Ensemble"
      ]
    },
    {
      "cell_type": "code",
      "metadata": {
        "id": "hNfrxRYNW6wR",
        "colab_type": "code",
        "colab": {
          "base_uri": "https://localhost:8080/",
          "height": 286
        },
        "outputId": "41761017-3f75-42d3-dda7-135f7dbc2368"
      },
      "source": [
        "# roc curve and auc\n",
        "from sklearn.metrics import roc_curve\n",
        "from sklearn.metrics import roc_auc_score\n",
        "from matplotlib import pyplot\n",
        "\n",
        "\n",
        "# predict probabilities\n",
        "probs = ensemble_pickle.predict_proba(X_test)\n",
        "# keep probabilities for the positive outcome only\n",
        "probs = probs[:, 1]\n",
        "\n",
        "# calculate AUC\n",
        "auc = roc_auc_score(y_test, probs)\n",
        "\n",
        "print('AUC: %.3f' % auc)\n",
        "# calculate roc curve\n",
        "fpr, tpr, thresholds = roc_curve(y_test, probs)\n",
        "# plot no skill\n",
        "pyplot.plot([0, 1], [0, 1], linestyle='--')\n",
        "# plot the roc curve for the model\n",
        "pyplot.plot(fpr, tpr, marker='.')\n",
        "# show the plot\n",
        "pyplot.show()"
      ],
      "execution_count": 123,
      "outputs": [
        {
          "output_type": "stream",
          "text": [
            "AUC: 0.957\n"
          ],
          "name": "stdout"
        },
        {
          "output_type": "display_data",
          "data": {
            "image/png": "[encoded data removed]",
            "text/plain": [
              "<Figure size 432x288 with 1 Axes>"
            ]
          },
          "metadata": {
            "tags": []
          }
        }
      ]
    },
    {
      "cell_type": "markdown",
      "metadata": {
        "id": "59oRd0SvXb30",
        "colab_type": "text"
      },
      "source": [
        "#ROC - Deep Learning"
      ]
    },
    {
      "cell_type": "code",
      "metadata": {
        "id": "z47aZ7TrXazK",
        "colab_type": "code",
        "colab": {
          "base_uri": "https://localhost:8080/",
          "height": 286
        },
        "outputId": "49597ed6-052e-4909-b923-6ca05a32d2d9"
      },
      "source": [
        "\n",
        "# predict probabilities\n",
        "probs = deep_learning_pickle.predict_proba(X_test)\n",
        "# keep probabilities for the positive outcome only\n",
        "#probs = probs[:, 1]\n",
        "\n",
        "# calculate AUC\n",
        "auc = roc_auc_score(y_test, probs)\n",
        "\n",
        "print('AUC: %.3f' % auc)\n",
        "# calculate roc curve\n",
        "fpr, tpr, thresholds = roc_curve(y_test, probs)\n",
        "# plot no skill\n",
        "pyplot.plot([0, 1], [0, 1], linestyle='--')\n",
        "# plot the roc curve for the model\n",
        "pyplot.plot(fpr, tpr, marker='.')\n",
        "# show the plot\n",
        "pyplot.show()"
      ],
      "execution_count": 126,
      "outputs": [
        {
          "output_type": "stream",
          "text": [
            "AUC: 0.986\n"
          ],
          "name": "stdout"
        },
        {
          "output_type": "display_data",
          "data": {
            "image/png": "[encoded data removed]",
            "text/plain": [
              "<Figure size 432x288 with 1 Axes>"
            ]
          },
          "metadata": {
            "tags": []
          }
        }
      ]
    },
    {
      "cell_type": "markdown",
      "metadata": {
        "id": "EIux9SsCGZEN",
        "colab_type": "text"
      },
      "source": [
        "# #predict test data"
      ]
    },
    {
      "cell_type": "code",
      "metadata": {
        "id": "qqzhLD2KGaQ0",
        "colab_type": "code",
        "colab": {
          "base_uri": "https://localhost:8080/",
          "height": 297
        },
        "outputId": "90ede58c-e18b-425d-c9b9-9ac9bb400a3d"
      },
      "source": [
        "predictions_ensemble = predict_ensemble(ensemble_pickle , data_predict_encoded)\n",
        "\n",
        "predictions_ensemble.describe()\n"
      ],
      "execution_count": 128,
      "outputs": [
        {
          "output_type": "execute_result",
          "data": {
            "text/html": [
              "<div>\n",
              "<style scoped>\n",
              "    .dataframe tbody tr th:only-of-type {\n",
              "        vertical-align: middle;\n",
              "    }\n",
              "\n",
              "    .dataframe tbody tr th {\n",
              "        vertical-align: top;\n",
              "    }\n",
              "\n",
              "    .dataframe thead th {\n",
              "        text-align: right;\n",
              "    }\n",
              "</style>\n",
              "<table border=\"1\" class=\"dataframe\">\n",
              "  <thead>\n",
              "    <tr style=\"text-align: right;\">\n",
              "      <th></th>\n",
              "      <th>0</th>\n",
              "    </tr>\n",
              "  </thead>\n",
              "  <tbody>\n",
              "    <tr>\n",
              "      <th>count</th>\n",
              "      <td>9996.000000</td>\n",
              "    </tr>\n",
              "    <tr>\n",
              "      <th>mean</th>\n",
              "      <td>0.190962</td>\n",
              "    </tr>\n",
              "    <tr>\n",
              "      <th>std</th>\n",
              "      <td>0.195989</td>\n",
              "    </tr>\n",
              "    <tr>\n",
              "      <th>min</th>\n",
              "      <td>0.002327</td>\n",
              "    </tr>\n",
              "    <tr>\n",
              "      <th>25%</th>\n",
              "      <td>0.049305</td>\n",
              "    </tr>\n",
              "    <tr>\n",
              "      <th>50%</th>\n",
              "      <td>0.110422</td>\n",
              "    </tr>\n",
              "    <tr>\n",
              "      <th>75%</th>\n",
              "      <td>0.259987</td>\n",
              "    </tr>\n",
              "    <tr>\n",
              "      <th>max</th>\n",
              "      <td>0.928046</td>\n",
              "    </tr>\n",
              "  </tbody>\n",
              "</table>\n",
              "</div>"
            ],
            "text/plain": [
              "                 0\n",
              "count  9996.000000\n",
              "mean      0.190962\n",
              "std       0.195989\n",
              "min       0.002327\n",
              "25%       0.049305\n",
              "50%       0.110422\n",
              "75%       0.259987\n",
              "max       0.928046"
            ]
          },
          "metadata": {
            "tags": []
          },
          "execution_count": 128
        }
      ]
    },
    {
      "cell_type": "code",
      "metadata": {
        "id": "Wh4EJZq1H6FC",
        "colab_type": "code",
        "colab": {}
      },
      "source": [
        "predictions_ensemble.to_csv(\"/content/drive/My Drive/Colab Notebooks/results1.csv\",index=False)"
      ],
      "execution_count": 0,
      "outputs": []
    },
    {
      "cell_type": "code",
      "metadata": {
        "id": "qNlrhyMqGgHH",
        "colab_type": "code",
        "colab": {
          "base_uri": "https://localhost:8080/",
          "height": 297
        },
        "outputId": "ff0b992a-ce8d-4539-d6ce-b88ba9fcbe72"
      },
      "source": [
        "predictions_NN = predict_deep_learning(deep_learning_pickle , data_predict_encoded)\n",
        "\n",
        "predictions_NN.describe()"
      ],
      "execution_count": 130,
      "outputs": [
        {
          "output_type": "execute_result",
          "data": {
            "text/html": [
              "<div>\n",
              "<style scoped>\n",
              "    .dataframe tbody tr th:only-of-type {\n",
              "        vertical-align: middle;\n",
              "    }\n",
              "\n",
              "    .dataframe tbody tr th {\n",
              "        vertical-align: top;\n",
              "    }\n",
              "\n",
              "    .dataframe thead th {\n",
              "        text-align: right;\n",
              "    }\n",
              "</style>\n",
              "<table border=\"1\" class=\"dataframe\">\n",
              "  <thead>\n",
              "    <tr style=\"text-align: right;\">\n",
              "      <th></th>\n",
              "      <th>0</th>\n",
              "    </tr>\n",
              "  </thead>\n",
              "  <tbody>\n",
              "    <tr>\n",
              "      <th>count</th>\n",
              "      <td>9996.000000</td>\n",
              "    </tr>\n",
              "    <tr>\n",
              "      <th>mean</th>\n",
              "      <td>0.199206</td>\n",
              "    </tr>\n",
              "    <tr>\n",
              "      <th>std</th>\n",
              "      <td>0.391314</td>\n",
              "    </tr>\n",
              "    <tr>\n",
              "      <th>min</th>\n",
              "      <td>0.000000</td>\n",
              "    </tr>\n",
              "    <tr>\n",
              "      <th>25%</th>\n",
              "      <td>0.000002</td>\n",
              "    </tr>\n",
              "    <tr>\n",
              "      <th>50%</th>\n",
              "      <td>0.000156</td>\n",
              "    </tr>\n",
              "    <tr>\n",
              "      <th>75%</th>\n",
              "      <td>0.012232</td>\n",
              "    </tr>\n",
              "    <tr>\n",
              "      <th>max</th>\n",
              "      <td>1.000000</td>\n",
              "    </tr>\n",
              "  </tbody>\n",
              "</table>\n",
              "</div>"
            ],
            "text/plain": [
              "                 0\n",
              "count  9996.000000\n",
              "mean      0.199206\n",
              "std       0.391314\n",
              "min       0.000000\n",
              "25%       0.000002\n",
              "50%       0.000156\n",
              "75%       0.012232\n",
              "max       1.000000"
            ]
          },
          "metadata": {
            "tags": []
          },
          "execution_count": 130
        }
      ]
    },
    {
      "cell_type": "code",
      "metadata": {
        "id": "mjuCZOTBG_4g",
        "colab_type": "code",
        "colab": {}
      },
      "source": [
        "predictions_NN.to_csv(\"/content/drive/My Drive/Colab Notebooks/results2.csv\",index=False)"
      ],
      "execution_count": 0,
      "outputs": []
    }
  ]
}